{
 "cells": [
  {
   "cell_type": "markdown",
   "metadata": {},
   "source": [
    "### Objective:  In this notebook, I am doing a grid search using SGDClassifier for elastic net\n",
    "\n",
    "I will do the grid search using 10 fold CV on a subset of the training data. \n",
    "\n",
    "### Load modules and the data"
   ]
  },
  {
   "cell_type": "code",
   "execution_count": 1,
   "metadata": {
    "collapsed": false
   },
   "outputs": [],
   "source": [
    "from sklearn.model_selection import GridSearchCV\n",
    "from sklearn.linear_model import SGDClassifier\n",
    "from sklearn.pipeline import Pipeline\n",
    "from sklearn.preprocessing import StandardScaler\n",
    "from sklearn.model_selection import train_test_split\n",
    "from sklearn.metrics import roc_auc_score, roc_curve, confusion_matrix, make_scorer\n",
    "\n",
    "import numpy as np\n",
    "import pandas as pd\n",
    "import seaborn as sns\n",
    "from os.path import join, split\n",
    "from os import listdir\n",
    "import matplotlib.pyplot as plt\n",
    "%matplotlib inline\n",
    "\n",
    "pd.set_option('display.max_rows',999)\n",
    "pd.set_option('display.max_columns', 999)\n",
    "%matplotlib inline\n"
   ]
  },
  {
   "cell_type": "code",
   "execution_count": 2,
   "metadata": {
    "collapsed": false
   },
   "outputs": [],
   "source": [
    "base = join('/Users/crivera5/Documents/NonIntuitProjects/Kaggle/KaggleEEG','data_local')\n",
    "data= pd.read_csv(join(base,'cleaned_training.csv'))\n",
    "\n",
    "X = data.iloc[:, :-3].copy()\n",
    "y = data.iloc[:,-1].copy()"
   ]
  },
  {
   "cell_type": "markdown",
   "metadata": {},
   "source": [
    "### Split the data into test and train\n"
   ]
  },
  {
   "cell_type": "code",
   "execution_count": 3,
   "metadata": {
    "collapsed": true
   },
   "outputs": [],
   "source": [
    "X_train, X_test, y_train, y_test = train_test_split(X,y,random_state=4)"
   ]
  },
  {
   "cell_type": "markdown",
   "metadata": {},
   "source": [
    "### Set up the pipeline and fit the data\n",
    "\n",
    "The pipeline below: \n",
    "\n",
    "1. scales the data, \n",
    "2. Trains a SDGlogistic regressor with GridSearchCV. \n",
    "\n",
    "I am trying 3 different parameters in my grid search: \n",
    "\n",
    "1. C: the tunning parameter. \n",
    "2. Class_weight: Toggling whether the regressor uses balanced or not balanced wieghting strategy to account for imbalances in the classes. \n",
    "3. penalty: 'L1' or 'L2'"
   ]
  },
  {
   "cell_type": "code",
   "execution_count": 4,
   "metadata": {
    "collapsed": false
   },
   "outputs": [
    {
     "data": {
      "text/plain": [
       "GridSearchCV(cv=10, error_score='raise',\n",
       "       estimator=Pipeline(steps=[('scalar', StandardScaler(copy=True, with_mean=True, with_std=True)), ('SGDclf', SGDClassifier(alpha=0.0001, average=False, class_weight=None, epsilon=0.1,\n",
       "       eta0=0.0, fit_intercept=True, l1_ratio=0.15,\n",
       "       learning_rate='optimal', loss='hinge', n_iter=20, n_jobs=1,\n",
       "       penalty='elasticnet', power_t=0.5, random_state=444, shuffle=True,\n",
       "       verbose=0, warm_start=True))]),\n",
       "       fit_params={}, iid=True, n_jobs=-1,\n",
       "       param_grid={'SGDclf__class_weight': [None, 'balanced'], 'SDGclf__l1_ratio': array([ 0.05,  0.1 ,  0.15,  0.2 ,  0.25,  0.3 ,  0.35,  0.4 ,  0.45,\n",
       "        0.5 ,  0.55,  0.6 ,  0.65,  0.7 ,  0.75,  0.8 ,  0.85,  0.9 ,  0.95]), 'SGDclf__alpha': array([  1.00000e-02,   1.26638e-02,   1.60372e-02,   2.03...,   3.07029e+01,   3.88816e+01,\n",
       "         4.92388e+01,   6.23551e+01,   7.89652e+01,   1.00000e+02])},\n",
       "       pre_dispatch='2*n_jobs', refit=True, return_train_score=True,\n",
       "       scoring='roc_auc', verbose=True)"
      ]
     },
     "execution_count": 4,
     "metadata": {},
     "output_type": "execute_result"
    }
   ],
   "source": [
    "# the space to search \n",
    "number_alpha= 40\n",
    "start = -2\n",
    "end = 2\n",
    "\n",
    "scalar = StandardScaler()\n",
    "\n",
    "sgd_clf = SGDClassifier(loss='hinge', \n",
    "                       penalty='elasticnet', \n",
    "                       l1_ratio=0.15, \n",
    "                       fit_intercept=True, \n",
    "                       n_iter=20, \n",
    "                       shuffle=True, verbose=0,\n",
    "                       n_jobs=1, random_state=444, \n",
    "                       learning_rate='optimal', \n",
    "                       power_t=0.5, class_weight=None, \n",
    "                       warm_start=True, \n",
    "                       average=False)\n",
    "\n",
    "sgd_pipeline = Pipeline([('scalar',StandardScaler()),\n",
    "                     ('SGDclf', sgd_clf)])\n",
    "parameters = {'SGDclf__alpha':np.logspace(start,end,number_alpha), 'SGDclf__class_weight':[None, 'balanced'],\n",
    "              'SDGclf__l1_ratio':np.arange(0.05,1,0.05)}\n",
    "sgd_model = GridSearchCV(sgd_pipeline, parameters, n_jobs = -1, scoring = 'roc_auc',verbose = True, cv = 10)\n",
    "sgd_model"
   ]
  },
  {
   "cell_type": "code",
   "execution_count": null,
   "metadata": {
    "collapsed": false
   },
   "outputs": [
    {
     "name": "stdout",
     "output_type": "stream",
     "text": [
      "Fitting 10 folds for each of 1520 candidates, totalling 15200 fits\n"
     ]
    }
   ],
   "source": [
    "sgd_model.fit(X_train, y_train)"
   ]
  },
  {
   "cell_type": "code",
   "execution_count": null,
   "metadata": {
    "collapsed": false
   },
   "outputs": [],
   "source": [
    "# save the model\n",
    "from sklearn.externals import joblib\n",
    "filename = join(base,'SGDRegressionModel.joblib.pkl')\n",
    "joblib.dump(sgd_model, filename, compress=3)"
   ]
  },
  {
   "cell_type": "markdown",
   "metadata": {},
   "source": [
    "### Get the best estimator of the bunch\n",
    "\n",
    "Below I am getting the best model of the bunch. "
   ]
  },
  {
   "cell_type": "code",
   "execution_count": null,
   "metadata": {
    "collapsed": false
   },
   "outputs": [],
   "source": [
    "model.cv_results_.keys()"
   ]
  },
  {
   "cell_type": "code",
   "execution_count": null,
   "metadata": {
    "collapsed": false
   },
   "outputs": [],
   "source": [
    "best_model  = model.best_estimator_"
   ]
  },
  {
   "cell_type": "code",
   "execution_count": null,
   "metadata": {
    "collapsed": false
   },
   "outputs": [],
   "source": [
    "best_model.get_params()"
   ]
  },
  {
   "cell_type": "code",
   "execution_count": null,
   "metadata": {
    "collapsed": false
   },
   "outputs": [],
   "source": [
    "best_model.get_params()"
   ]
  },
  {
   "cell_type": "markdown",
   "metadata": {},
   "source": [
    "### Plot an ROC curve"
   ]
  },
  {
   "cell_type": "code",
   "execution_count": null,
   "metadata": {
    "collapsed": true
   },
   "outputs": [],
   "source": [
    "def plot_roc_curves(model_data, lw = 0.8):\n",
    "    '''plots an roc curve\n",
    "    Parameters: \n",
    "        model_data: dicts obs and probs\n",
    "        classifier\n",
    "    Returns: \n",
    "        None\n",
    "    '''\n",
    "    for model in model_data:\n",
    "        print model\n",
    "        obs = model_data[model]['obs']\n",
    "        probs = model_data[model]['probs']\n",
    "        fpr, tpr, _= roc_curve(obs, probs)\n",
    "        \n",
    "        plt.plot(fpr, tpr,label = model, lw=lw)\n",
    "    plt.plot([0, 1], [0, 1], color='navy', lw=lw, linestyle='--')\n",
    "    plt.xlim([0.0, 1.0])\n",
    "    plt.ylim([0.0, 1.05])\n",
    "    plt.xlabel('False Positive Rate')\n",
    "    plt.ylabel('True Positive Rate')\n",
    "    plt.title('Receiver operating characteristic curves')\n",
    "    plt.legend(loc = 0)\n",
    "    \n",
    "    return None"
   ]
  },
  {
   "cell_type": "code",
   "execution_count": null,
   "metadata": {
    "collapsed": false
   },
   "outputs": [],
   "source": [
    "probs = [pred[1] for pred in best_model.predict_proba(X_test)]\n",
    "model_data = {'Best L1 Logistic Regression': {'obs':y_test,\n",
    "                                              'probs': probs}}"
   ]
  },
  {
   "cell_type": "code",
   "execution_count": null,
   "metadata": {
    "collapsed": false
   },
   "outputs": [],
   "source": [
    "plot_roc_curves(model_data)"
   ]
  },
  {
   "cell_type": "code",
   "execution_count": null,
   "metadata": {
    "collapsed": false
   },
   "outputs": [],
   "source": [
    "roc_auc_score(y_test, probs)"
   ]
  },
  {
   "cell_type": "markdown",
   "metadata": {},
   "source": [
    "## Retrain the best model with all of the data"
   ]
  },
  {
   "cell_type": "code",
   "execution_count": null,
   "metadata": {
    "collapsed": false
   },
   "outputs": [],
   "source": [
    "best_model.fit(X,y)"
   ]
  },
  {
   "cell_type": "markdown",
   "metadata": {},
   "source": [
    "### Plot the Coeffecients"
   ]
  },
  {
   "cell_type": "code",
   "execution_count": null,
   "metadata": {
    "collapsed": false
   },
   "outputs": [],
   "source": [
    "coefs =pd.Series(best_model.get_params()['clf'].coef_.tolist()[0])\n",
    "coefs =pd.Series(best_model.get_params()['clf'].coef_.tolist()[0])\n",
    "coefs.index = X_test.columns\n",
    "coefs = coefs[coefs>0]\n",
    "\n",
    "coefs.sort_values(inplace = True)"
   ]
  },
  {
   "cell_type": "code",
   "execution_count": null,
   "metadata": {
    "collapsed": false
   },
   "outputs": [],
   "source": [
    "coefs.plot.barh(figsize= (8,26))"
   ]
  },
  {
   "cell_type": "code",
   "execution_count": null,
   "metadata": {
    "collapsed": false
   },
   "outputs": [],
   "source": [
    "len(coefs)"
   ]
  },
  {
   "cell_type": "markdown",
   "metadata": {},
   "source": [
    "### Predict the test data"
   ]
  },
  {
   "cell_type": "code",
   "execution_count": null,
   "metadata": {
    "collapsed": true
   },
   "outputs": [],
   "source": [
    "def load_features(path):\n",
    "    \"\"\"loads the features of the data and removes undesired columns \"\"\"\n",
    "    \n",
    "    remove = ['channel 4 RIR 1 ', 'channel 4 RIR 2 ', 'channel 4 RIR 3 ', 'channel 4 RIR 4 ', 'channel 4 RIR 5 ',\n",
    "              'channel 4 RIR 6 ', 'channel 10 RIR 1 ', 'channel 10 RIR 2 ', 'channel 10 RIR 3 ', 'channel 10 RIR 4 ',\n",
    "              'channel 10 RIR 5 ', 'channel 10 RIR 6 ', 'SpectralEntropy 4', 'SpectralEntropy 10']\n",
    "    \n",
    "    # read in the data \n",
    "    data =pd.read_csv(path)\n",
    "        \n",
    "    # drop the undesired columns \n",
    "    return data.drop(remove, axis = 1)\n",
    "\n",
    "\n",
    "test_data = load_features(join(base,'testing.csv'))"
   ]
  },
  {
   "cell_type": "code",
   "execution_count": null,
   "metadata": {
    "collapsed": false
   },
   "outputs": [],
   "source": [
    "X_testing = test_data.iloc[:,:-1].copy()\n",
    "file_names = test_data['filename'].copy()"
   ]
  },
  {
   "cell_type": "code",
   "execution_count": null,
   "metadata": {
    "collapsed": false
   },
   "outputs": [],
   "source": [
    "# There are Nan's so fill them\n",
    "X_testing =X_testing.fillna(X_testing.mean(),axis = 0)"
   ]
  },
  {
   "cell_type": "code",
   "execution_count": null,
   "metadata": {
    "collapsed": false
   },
   "outputs": [],
   "source": [
    "predictions = [pred[1] for pred in best_model.predict_proba(X_testing)]"
   ]
  },
  {
   "cell_type": "code",
   "execution_count": null,
   "metadata": {
    "collapsed": false
   },
   "outputs": [],
   "source": [
    "submission = pd.DataFrame({'File':file_names, 'Class': predictions})\n",
    "submission = submission[['File','Class']]"
   ]
  },
  {
   "cell_type": "code",
   "execution_count": null,
   "metadata": {
    "collapsed": false
   },
   "outputs": [],
   "source": [
    "submission.head()"
   ]
  },
  {
   "cell_type": "code",
   "execution_count": null,
   "metadata": {
    "collapsed": false
   },
   "outputs": [],
   "source": [
    "submission.Class.plot.density()"
   ]
  },
  {
   "cell_type": "markdown",
   "metadata": {},
   "source": [
    "It seems to me that the first ones are more likely to be preictal. "
   ]
  },
  {
   "cell_type": "code",
   "execution_count": null,
   "metadata": {
    "collapsed": false
   },
   "outputs": [],
   "source": [
    "submission.Class.plot()"
   ]
  },
  {
   "cell_type": "code",
   "execution_count": null,
   "metadata": {
    "collapsed": false
   },
   "outputs": [],
   "source": [
    "len(submission)"
   ]
  },
  {
   "cell_type": "markdown",
   "metadata": {},
   "source": [
    "### Get files not in the data\n",
    "The problem with this is that i did not have all the files. "
   ]
  },
  {
   "cell_type": "code",
   "execution_count": null,
   "metadata": {
    "collapsed": false
   },
   "outputs": [],
   "source": [
    "base2 = join('/Users/crivera5/Documents/NonIntuitProjects/Kaggle/KaggleEEG')\n",
    "paths = [join(base2, 'test_1_new'), \n",
    "         join(base2,'test_2_new'),\n",
    "         join(base2,'test_3_new')]"
   ]
  },
  {
   "cell_type": "code",
   "execution_count": null,
   "metadata": {
    "collapsed": false
   },
   "outputs": [],
   "source": [
    "def get_data_files(list_o_paths):\n",
    "    \"\"\"This gets the data matlab files\"\"\"\n",
    "    file_names = []\n",
    "    for path in list_o_paths:\n",
    "        files = [join(path, f) for f in listdir(path) if f.endswith('.mat')]\n",
    "        file_names.extend(files)\n",
    "\n",
    "    return file_names"
   ]
  },
  {
   "cell_type": "code",
   "execution_count": null,
   "metadata": {
    "collapsed": false
   },
   "outputs": [],
   "source": [
    "unscored_files = [split(f)[1] for f in get_data_files(paths)]\n",
    "unscored_files = [f for f in unscored_files if f not in list(submission['File'])]\n",
    "unscored_files =pd.DataFrame({'File':unscored_files})\n",
    "unscored_files['Class'] = submission.Class.mean()\n",
    "unscored_files.head()"
   ]
  },
  {
   "cell_type": "code",
   "execution_count": null,
   "metadata": {
    "collapsed": false
   },
   "outputs": [],
   "source": [
    "# merge them \n",
    "submission = pd.concat([submission, unscored_files])\n",
    "submission.sort_values('File', inplace = True)"
   ]
  },
  {
   "cell_type": "code",
   "execution_count": null,
   "metadata": {
    "collapsed": false
   },
   "outputs": [],
   "source": [
    "print len(submission)\n",
    "submission.head()\n"
   ]
  },
  {
   "cell_type": "code",
   "execution_count": null,
   "metadata": {
    "collapsed": true
   },
   "outputs": [],
   "source": [
    "submission.to_csv(join(base,'submission1.csv'), index = False)"
   ]
  },
  {
   "cell_type": "markdown",
   "metadata": {},
   "source": [
    "### SDG Classifier with elasticnet"
   ]
  },
  {
   "cell_type": "code",
   "execution_count": null,
   "metadata": {
    "collapsed": true
   },
   "outputs": [],
   "source": [
    "from sklearn.linear_model import SGDClassifier"
   ]
  },
  {
   "cell_type": "code",
   "execution_count": null,
   "metadata": {
    "collapsed": false
   },
   "outputs": [],
   "source": [
    "# the space to search \n",
    "number_alpha= 40\n",
    "start = -2\n",
    "end = 2\n",
    "\n",
    "scalar = StandardScaler()\n",
    "\n",
    "sgd_clf = SGDClassifier(loss='hinge', \n",
    "                       penalty='elasticnet', \n",
    "                       l1_ratio=0.15, \n",
    "                       fit_intercept=True, \n",
    "                       n_iter=20, \n",
    "                       shuffle=True, verbose=0,\n",
    "                       n_jobs=1, random_state=444, \n",
    "                       learning_rate='optimal', \n",
    "                       power_t=0.5, class_weight=None, \n",
    "                       warm_start=True, \n",
    "                       average=False)\n",
    "\n",
    "sgd_pipeline = Pipeline([('scalar',StandardScaler()),\n",
    "                     ('SGDclf', sgd_clf)])\n",
    "parameters = {'SGDclf__alpha':np.logspace(start,end,number_alpha), 'SGDclf__class_weight':[None, 'balanced'],\n",
    "              'SDGclf__l1_ratio':np.arange(0.05,1,0.05)}\n",
    "sgd_model = GridSearchCV(sgd_pipeline, parameters, n_jobs = -1, scoring = 'roc_auc',verbose = True, cv = 10)\n",
    "sgd_model"
   ]
  },
  {
   "cell_type": "code",
   "execution_count": null,
   "metadata": {
    "collapsed": false
   },
   "outputs": [],
   "source": [
    "sgd_model.fit(X_train,y_train)"
   ]
  }
 ],
 "metadata": {
  "kernelspec": {
   "display_name": "Python 2",
   "language": "python",
   "name": "python2"
  },
  "language_info": {
   "codemirror_mode": {
    "name": "ipython",
    "version": 2
   },
   "file_extension": ".py",
   "mimetype": "text/x-python",
   "name": "python",
   "nbconvert_exporter": "python",
   "pygments_lexer": "ipython2",
   "version": "2.7.11"
  }
 },
 "nbformat": 4,
 "nbformat_minor": 1
}
