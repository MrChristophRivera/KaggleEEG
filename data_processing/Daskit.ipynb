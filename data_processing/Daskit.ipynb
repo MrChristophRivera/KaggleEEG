{
 "cells": [
  {
   "cell_type": "markdown",
   "metadata": {},
   "source": [
    "### In this notebook I use dask\n",
    "\n",
    "This is demonstrating how to use dask for our data processing. "
   ]
  },
  {
   "cell_type": "code",
   "execution_count": 1,
   "metadata": {
    "collapsed": true
   },
   "outputs": [],
   "source": [
    "import dask"
   ]
  },
  {
   "cell_type": "code",
   "execution_count": 2,
   "metadata": {
    "collapsed": true
   },
   "outputs": [],
   "source": [
    "### Load the data"
   ]
  },
  {
   "cell_type": "code",
   "execution_count": 3,
   "metadata": {
    "collapsed": true
   },
   "outputs": [],
   "source": [
    "from data_processing import load_data, get_files, parse_filename\n",
    "from feature_extraction import extract_fft_features, extract_time_domain_features\n",
    "import pandas as pd\n",
    "import dask\n",
    "from dask import do\n",
    "from os.path import split\n",
    "from dask import delayed, compute"
   ]
  },
  {
   "cell_type": "code",
   "execution_count": 4,
   "metadata": {
    "collapsed": false
   },
   "outputs": [],
   "source": [
    "files =get_files()[:2]"
   ]
  },
  {
   "cell_type": "code",
   "execution_count": 5,
   "metadata": {
    "collapsed": false
   },
   "outputs": [],
   "source": [
    "def parse_filename(filename, split_file=False):\n",
    "    \"\"\"Parses m filename to get the pertinent information\"\"\"\n",
    "    if split_file:\n",
    "        filename = split(filename)[1]\n",
    "\n",
    "    # strip out the .mat\n",
    "    filename = filename.replace('.mat', '')\n",
    "\n",
    "    # parse the remaing part\n",
    "    return [int(part) for part in filename.split('_')]\n",
    "\n",
    "def map_functions(data, functions):\n",
    "    \"\"\"maps a list of functions to data and returns as a list of results\n",
    "    Parameters: \n",
    "        data: data to be computed on\n",
    "        functions(list): a list of functions\n",
    "    Returns: \n",
    "        results(list): a list of the results\n",
    "    \"\"\"\n",
    "    return [fun(data) for fun in functions]\n",
    "\n",
    "\n",
    "def process_data(file_name, functions=None):\n",
    "    \"\"\"Processes one file at a time for extracting features\n",
    "    Parameters: \n",
    "        file_name(str): the file name\n",
    "        functions(list): a list of functions for extracting features\n",
    "    Returns: \n",
    "        res(pd.DataFrame): a one row data frame with the features in the columns    \n",
    "    \"\"\"\n",
    "    \n",
    "    if functions is None: \n",
    "        functions = [extract_time_domain_features,extract_fft_features]\n",
    "    \n",
    "    # get the time series and parse the filename for the info\n",
    "    time_series = load_data(file_name,True)[0]\n",
    "    patient,number,condition = parse_filename(file_name, True)\n",
    "    \n",
    "    # create an index and prefix df\n",
    "    index = pd.MultiIndex.from_tuples([(patient, number, condition)], \n",
    "                                      names=['Patient', 'TraceNumber', 'Condition'])\n",
    "\n",
    "    prefix_df = pd.DataFrame({'Patient':patient,\n",
    "                              'TraceNumber':number,\n",
    "                              'Condition':condition},\n",
    "                             index = [0]\n",
    "                              )\n",
    "    \n",
    "    # create a list two hold the data frames, call the functions and then concatenate the resulting dataframes\n",
    "    res = [prefix_df]\n",
    "    res.extend(map_functions(time_series,functions))\n",
    "    res = pd.concat(res, axis =1)\n",
    "    res.index = index\n",
    "    return res\n",
    "    \n",
    "def process_multiple_data(files):\n",
    "    \"\"\"uses dask to process many files in parallel\"\"\"\n",
    "    # set up the compute graph\n",
    "    graph = delayed([delayed(process_data)(file_) for file_ in files])\n",
    "    # compute the graph\n",
    "    results = compute(graph)\n",
    "    \n",
    "    return pd.concat([results[0][i] for i in range(len(files))])"
   ]
  },
  {
   "cell_type": "code",
   "execution_count": 6,
   "metadata": {
    "collapsed": false
   },
   "outputs": [
    {
     "name": "stderr",
     "output_type": "stream",
     "text": [
      "/Users/crivera5/.virtual_envs/Kaggle/lib/python2.7/site-packages/pandas/core/ops.py:716: RuntimeWarning: invalid value encountered in greater_equal\n",
      "  result = getattr(x, name)(y)\n"
     ]
    }
   ],
   "source": [
    "features = process_multiple_data(files)"
   ]
  },
  {
   "cell_type": "code",
   "execution_count": 7,
   "metadata": {
    "collapsed": false
   },
   "outputs": [
    {
     "data": {
      "text/html": [
       "<div>\n",
       "<table border=\"1\" class=\"dataframe\">\n",
       "  <thead>\n",
       "    <tr style=\"text-align: right;\">\n",
       "      <th></th>\n",
       "      <th></th>\n",
       "      <th></th>\n",
       "      <th>Condition</th>\n",
       "      <th>Patient</th>\n",
       "      <th>TraceNumber</th>\n",
       "      <th>Variance 1</th>\n",
       "      <th>Variance 2</th>\n",
       "      <th>Variance 3</th>\n",
       "      <th>Variance 4</th>\n",
       "      <th>Variance 5</th>\n",
       "      <th>Variance 6</th>\n",
       "      <th>Variance 7</th>\n",
       "      <th>...</th>\n",
       "      <th>SpectralEntropy 7</th>\n",
       "      <th>SpectralEntropy 8</th>\n",
       "      <th>SpectralEntropy 9</th>\n",
       "      <th>SpectralEntropy 10</th>\n",
       "      <th>SpectralEntropy 11</th>\n",
       "      <th>SpectralEntropy 12</th>\n",
       "      <th>SpectralEntropy 13</th>\n",
       "      <th>SpectralEntropy 14</th>\n",
       "      <th>SpectralEntropy 15</th>\n",
       "      <th>SpectralEntropy 16</th>\n",
       "    </tr>\n",
       "    <tr>\n",
       "      <th>Patient</th>\n",
       "      <th>TraceNumber</th>\n",
       "      <th>Condition</th>\n",
       "      <th></th>\n",
       "      <th></th>\n",
       "      <th></th>\n",
       "      <th></th>\n",
       "      <th></th>\n",
       "      <th></th>\n",
       "      <th></th>\n",
       "      <th></th>\n",
       "      <th></th>\n",
       "      <th></th>\n",
       "      <th></th>\n",
       "      <th></th>\n",
       "      <th></th>\n",
       "      <th></th>\n",
       "      <th></th>\n",
       "      <th></th>\n",
       "      <th></th>\n",
       "      <th></th>\n",
       "      <th></th>\n",
       "      <th></th>\n",
       "      <th></th>\n",
       "    </tr>\n",
       "  </thead>\n",
       "  <tbody>\n",
       "    <tr>\n",
       "      <th rowspan=\"2\" valign=\"top\">1</th>\n",
       "      <th>1000</th>\n",
       "      <th>0</th>\n",
       "      <td>0</td>\n",
       "      <td>1</td>\n",
       "      <td>1000</td>\n",
       "      <td>1460.317993</td>\n",
       "      <td>2089.150146</td>\n",
       "      <td>2707.595215</td>\n",
       "      <td>4025.930420</td>\n",
       "      <td>3462.147217</td>\n",
       "      <td>2225.895020</td>\n",
       "      <td>1405.077759</td>\n",
       "      <td>...</td>\n",
       "      <td>-1.342669</td>\n",
       "      <td>-1.332920</td>\n",
       "      <td>-1.243326</td>\n",
       "      <td>-1.410041</td>\n",
       "      <td>-1.322903</td>\n",
       "      <td>-1.250799</td>\n",
       "      <td>-1.412500</td>\n",
       "      <td>-1.499203</td>\n",
       "      <td>-1.378572</td>\n",
       "      <td>-1.244428</td>\n",
       "    </tr>\n",
       "    <tr>\n",
       "      <th>1001</th>\n",
       "      <th>0</th>\n",
       "      <td>0</td>\n",
       "      <td>1</td>\n",
       "      <td>1001</td>\n",
       "      <td>1274.685547</td>\n",
       "      <td>1789.522217</td>\n",
       "      <td>2519.115479</td>\n",
       "      <td>3820.594727</td>\n",
       "      <td>3596.031982</td>\n",
       "      <td>2023.835205</td>\n",
       "      <td>1382.331299</td>\n",
       "      <td>...</td>\n",
       "      <td>-1.345160</td>\n",
       "      <td>-1.354946</td>\n",
       "      <td>-1.226694</td>\n",
       "      <td>-1.428975</td>\n",
       "      <td>-1.323394</td>\n",
       "      <td>-1.264476</td>\n",
       "      <td>-1.478456</td>\n",
       "      <td>-1.563301</td>\n",
       "      <td>-1.402590</td>\n",
       "      <td>-1.247789</td>\n",
       "    </tr>\n",
       "  </tbody>\n",
       "</table>\n",
       "<p>2 rows × 563 columns</p>\n",
       "</div>"
      ],
      "text/plain": [
       "                               Condition  Patient  TraceNumber   Variance 1  \\\n",
       "Patient TraceNumber Condition                                                 \n",
       "1       1000        0                  0        1         1000  1460.317993   \n",
       "        1001        0                  0        1         1001  1274.685547   \n",
       "\n",
       "                                Variance 2   Variance 3   Variance 4  \\\n",
       "Patient TraceNumber Condition                                          \n",
       "1       1000        0          2089.150146  2707.595215  4025.930420   \n",
       "        1001        0          1789.522217  2519.115479  3820.594727   \n",
       "\n",
       "                                Variance 5   Variance 6   Variance 7  \\\n",
       "Patient TraceNumber Condition                                          \n",
       "1       1000        0          3462.147217  2225.895020  1405.077759   \n",
       "        1001        0          3596.031982  2023.835205  1382.331299   \n",
       "\n",
       "                                      ...          SpectralEntropy 7  \\\n",
       "Patient TraceNumber Condition         ...                              \n",
       "1       1000        0                 ...                  -1.342669   \n",
       "        1001        0                 ...                  -1.345160   \n",
       "\n",
       "                               SpectralEntropy 8  SpectralEntropy 9  \\\n",
       "Patient TraceNumber Condition                                         \n",
       "1       1000        0                  -1.332920          -1.243326   \n",
       "        1001        0                  -1.354946          -1.226694   \n",
       "\n",
       "                               SpectralEntropy 10  SpectralEntropy 11  \\\n",
       "Patient TraceNumber Condition                                           \n",
       "1       1000        0                   -1.410041           -1.322903   \n",
       "        1001        0                   -1.428975           -1.323394   \n",
       "\n",
       "                               SpectralEntropy 12  SpectralEntropy 13  \\\n",
       "Patient TraceNumber Condition                                           \n",
       "1       1000        0                   -1.250799           -1.412500   \n",
       "        1001        0                   -1.264476           -1.478456   \n",
       "\n",
       "                               SpectralEntropy 14  SpectralEntropy 15  \\\n",
       "Patient TraceNumber Condition                                           \n",
       "1       1000        0                   -1.499203           -1.378572   \n",
       "        1001        0                   -1.563301           -1.402590   \n",
       "\n",
       "                               SpectralEntropy 16  \n",
       "Patient TraceNumber Condition                      \n",
       "1       1000        0                   -1.244428  \n",
       "        1001        0                   -1.247789  \n",
       "\n",
       "[2 rows x 563 columns]"
      ]
     },
     "execution_count": 7,
     "metadata": {},
     "output_type": "execute_result"
    }
   ],
   "source": [
    "features"
   ]
  },
  {
   "cell_type": "code",
   "execution_count": 8,
   "metadata": {
    "collapsed": true
   },
   "outputs": [],
   "source": [
    "def map_functions(data, functions):\n",
    "    \"\"\"maps a list of functions to data (slowly)\"\"\"\n",
    "    return [fun(data) for fun in functions]"
   ]
  },
  {
   "cell_type": "code",
   "execution_count": 9,
   "metadata": {
    "collapsed": false
   },
   "outputs": [
    {
     "data": {
      "text/plain": [
       "[0.8414709848078965, 0.54030230586813977]"
      ]
     },
     "execution_count": 9,
     "metadata": {},
     "output_type": "execute_result"
    }
   ],
   "source": [
    "import numpy as np\n",
    "functions = [np.sin, np.cos]\n",
    "map_functions(1,functions)"
   ]
  },
  {
   "cell_type": "code",
   "execution_count": null,
   "metadata": {
    "collapsed": true
   },
   "outputs": [],
   "source": []
  }
 ],
 "metadata": {
  "kernelspec": {
   "display_name": "Python 2",
   "language": "python",
   "name": "python2"
  },
  "language_info": {
   "codemirror_mode": {
    "name": "ipython",
    "version": 2
   },
   "file_extension": ".py",
   "mimetype": "text/x-python",
   "name": "python",
   "nbconvert_exporter": "python",
   "pygments_lexer": "ipython2",
   "version": "2.7.11"
  }
 },
 "nbformat": 4,
 "nbformat_minor": 1
}
