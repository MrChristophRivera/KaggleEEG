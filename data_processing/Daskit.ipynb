{
 "cells": [
  {
   "cell_type": "markdown",
   "metadata": {},
   "source": [
    "### In this notebook I use dask\n",
    "\n",
    "This is demonstrating how to use dask for our data processing. "
   ]
  },
  {
   "cell_type": "markdown",
   "metadata": {
    "collapsed": true
   },
   "source": [
    "### Load the data"
   ]
  },
  {
   "cell_type": "code",
   "execution_count": 1,
   "metadata": {
    "collapsed": false
   },
   "outputs": [],
   "source": [
    "from data_processing import load_data, get_files, parse_filename, drop_nd_rows\n",
    "from feature_extraction import extract_fft_features, extract_time_domain_features\n",
    "from transformations import interpolate_zeros, replace_outliers_with_zeros, replace_outliers\n",
    "import pandas as pd\n",
    "import dask\n",
    "from dask import do\n",
    "from os.path import split\n",
    "from dask import delayed, compute\n",
    "import numpy as np\n",
    "\n",
    "from os import listdir\n",
    "import pandas as pd\n",
    "from os.path import join, split\n",
    "from data_processing import *\n",
    "%matplotlib inline\n",
    "\n",
    "from scipy.stats import shapiro\n",
    "from scipy.stats.mstats import normaltest\n",
    "from scipy.stats import iqr\n",
    "%load_ext autoreload"
   ]
  },
  {
   "cell_type": "code",
   "execution_count": 2,
   "metadata": {
    "collapsed": false
   },
   "outputs": [],
   "source": [
    "files =get_files()[:2]"
   ]
  },
  {
   "cell_type": "markdown",
   "metadata": {
    "collapsed": false
   },
   "source": [
    "```python\n",
    "\n",
    "def parse_filename(filename, split_file=False):\n",
    "    \"\"\"Parses m filename to get the pertinent information\"\"\"\n",
    "    if split_file:\n",
    "        filename = split(filename)[1]\n",
    "\n",
    "    # strip out the .mat\n",
    "    filename = filename.replace('.mat', '')\n",
    "\n",
    "    # parse the remaing part\n",
    "    return [int(part) for part in filename.split('_')]\n",
    "\n",
    "def map_functions(data, functions):\n",
    "    \"\"\"maps a list of functions to data and returns as a list of results\n",
    "    Parameters: \n",
    "        data: data to be computed on\n",
    "        functions(list): a list of functions\n",
    "    Returns: \n",
    "        results(list): a list of the results\n",
    "    \"\"\"\n",
    "    return [fun(data) for fun in functions]\n",
    "\n",
    "\n",
    "def process_data(file_name, functions=None):\n",
    "    \"\"\"Processes one file at a time for extracting features\n",
    "    Parameters: \n",
    "        file_name(str): the file name\n",
    "        functions(list): a list of functions for extracting features\n",
    "    Returns: \n",
    "        res(pd.DataFrame): a one row data frame with the features in the columns    \n",
    "    \"\"\"\n",
    "    \n",
    "    if functions is None: \n",
    "        functions = [extract_time_domain_features,extract_fft_features]\n",
    "    \n",
    "    # get the time series and parse the filename for the info\n",
    "    time_series = load_data(file_name,True)[0]\n",
    "    patient,number,condition = parse_filename(file_name, True)\n",
    "    \n",
    "    # create an index and prefix df\n",
    "    index = pd.MultiIndex.from_tuples([(patient, number, condition)], \n",
    "                                      names=['Patient', 'TraceNumber', 'Condition'])\n",
    "\n",
    "    prefix_df = pd.DataFrame({'Patient':patient,\n",
    "                              'TraceNumber':number,\n",
    "                              'Condition':condition},\n",
    "                             index = [0]\n",
    "                              )\n",
    "    \n",
    "    # create a list two hold the data frames, call the functions and then concatenate the resulting dataframes\n",
    "    res = [prefix_df]\n",
    "    res.extend(map_functions(time_series,functions))\n",
    "    res = pd.concat(res, axis =1)\n",
    "    res.index = index\n",
    "    return res\n",
    "    \n",
    "def process_multiple_data(files):\n",
    "    \"\"\"uses dask to process many files in parallel\"\"\"\n",
    "    # set up the compute graph\n",
    "    graph = delayed([delayed(process_data)(file_) for file_ in files])\n",
    "    # compute the graph\n",
    "    results = compute(graph)\n",
    "    \n",
    "    return pd.concat([results[0][i] for i in range(len(files))]) ```"
   ]
  },
  {
   "cell_type": "markdown",
   "metadata": {
    "collapsed": false
   },
   "source": [
    "features = process_multiple_data(files)"
   ]
  },
  {
   "cell_type": "code",
   "execution_count": 3,
   "metadata": {
    "collapsed": true
   },
   "outputs": [],
   "source": [
    "def map_functions(data, functions):\n",
    "    \"\"\"maps a list of functions to data (slowly)\"\"\"\n",
    "    return [fun(data) for fun in functions]"
   ]
  },
  {
   "cell_type": "markdown",
   "metadata": {
    "collapsed": false
   },
   "source": [
    "import numpy as np\n",
    "functions = [np.sin, np.cos]\n",
    "map_functions(1,functions)"
   ]
  },
  {
   "cell_type": "markdown",
   "metadata": {
    "collapsed": true
   },
   "source": [
    "### Try the new code\n"
   ]
  },
  {
   "cell_type": "code",
   "execution_count": 4,
   "metadata": {
    "collapsed": false
   },
   "outputs": [],
   "source": [
    "processor = Processor()"
   ]
  },
  {
   "cell_type": "code",
   "execution_count": 5,
   "metadata": {
    "collapsed": false
   },
   "outputs": [],
   "source": [
    "test_path = ['/Users/crivera5/Desktop/test']\n",
    "processor = Processor()\n",
    "#res= processor.process_data(test_path)\n",
    "#res"
   ]
  },
  {
   "cell_type": "markdown",
   "metadata": {},
   "source": [
    "### Compute the training sets"
   ]
  },
  {
   "cell_type": "code",
   "execution_count": 6,
   "metadata": {
    "collapsed": false
   },
   "outputs": [],
   "source": [
    "paths =['/Users/crivera5/Documents/NonIntuitProjects/Kaggle/KaggleEEG/train_1',\n",
    "       '/Users/crivera5/Documents/NonIntuitProjects/Kaggle/KaggleEEG/train_2',\n",
    "       '/Users/crivera5/Documents/NonIntuitProjects/Kaggle/KaggleEEG/train_3']"
   ]
  },
  {
   "cell_type": "markdown",
   "metadata": {
    "collapsed": false
   },
   "source": [
    "```python \n",
    "\n",
    "processor = Processor()\n",
    "res = processor.process_data(paths)  ```"
   ]
  },
  {
   "cell_type": "code",
   "execution_count": 7,
   "metadata": {
    "collapsed": false
   },
   "outputs": [],
   "source": [
    "files = get_data_files(paths)\n",
    "#%timeit processor.process_file(files[0])"
   ]
  },
  {
   "cell_type": "code",
   "execution_count": 8,
   "metadata": {
    "collapsed": false
   },
   "outputs": [
    {
     "name": "stdout",
     "output_type": "stream",
     "text": [
      "1 loop, best of 3: 1.27 s per loop\n"
     ]
    }
   ],
   "source": [
    "%timeit load_data(files[0])\n",
    "df = load_data(files[0], False)[0]"
   ]
  },
  {
   "cell_type": "markdown",
   "metadata": {},
   "source": [
    "I ran this code on the old version of processor. \n",
    "```python \n",
    "\n",
    "%time processor.pre_process(df)\n",
    "df = processor.pre_process(df)\n",
    "\n",
    "```\n",
    "CPU times: user 1min 52s, sys: 39.5 s, total: 2min 32s\n",
    "Wall time: 2min 32s"
   ]
  },
  {
   "cell_type": "code",
   "execution_count": 9,
   "metadata": {
    "collapsed": false
   },
   "outputs": [
    {
     "name": "stdout",
     "output_type": "stream",
     "text": [
      "10 loops, best of 3: 33 ms per loop\n"
     ]
    }
   ],
   "source": [
    "%timeit drop_nd_rows(df)\n",
    "df = drop_nd_rows(df)"
   ]
  },
  {
   "cell_type": "code",
   "execution_count": 10,
   "metadata": {
    "collapsed": false
   },
   "outputs": [
    {
     "name": "stdout",
     "output_type": "stream",
     "text": [
      "10 loops, best of 3: 50.1 ms per loop\n"
     ]
    }
   ],
   "source": [
    "%timeit interpolate_zeros(df)\n",
    "df = interpolate_zeros(df)"
   ]
  },
  {
   "cell_type": "code",
   "execution_count": 11,
   "metadata": {
    "collapsed": true
   },
   "outputs": [],
   "source": [
    "df = load_data(files[0], False)[0]\n",
    "df = drop_nd_rows(df)"
   ]
  },
  {
   "cell_type": "code",
   "execution_count": 12,
   "metadata": {
    "collapsed": false
   },
   "outputs": [
    {
     "name": "stdout",
     "output_type": "stream",
     "text": [
      "10 loops, best of 3: 49.7 ms per loop\n",
      "10 loops, best of 3: 50.1 ms per loop\n"
     ]
    }
   ],
   "source": [
    "%timeit interpolate_zeros(df)\n",
    "%timeit df.replace(to_replace = 0.0, value = np.nan).interpolate(method = 'linear')\n",
    "df2 = df.replace(to_replace = 0.0, value = np.nan).interpolate(method = 'linear')"
   ]
  },
  {
   "cell_type": "code",
   "execution_count": 13,
   "metadata": {
    "collapsed": true
   },
   "outputs": [],
   "source": [
    "s = df.iloc[:,0]"
   ]
  },
  {
   "cell_type": "code",
   "execution_count": 14,
   "metadata": {
    "collapsed": false
   },
   "outputs": [
    {
     "name": "stdout",
     "output_type": "stream",
     "text": [
      "100 loops, best of 3: 4.15 ms per loop\n"
     ]
    }
   ],
   "source": [
    "%timeit replace_outliers(s)"
   ]
  },
  {
   "cell_type": "code",
   "execution_count": 15,
   "metadata": {
    "collapsed": false
   },
   "outputs": [
    {
     "name": "stdout",
     "output_type": "stream",
     "text": [
      "10 loops, best of 3: 75.6 ms per loop\n"
     ]
    }
   ],
   "source": [
    "%timeit df.apply(replace_outliers)"
   ]
  },
  {
   "cell_type": "code",
   "execution_count": 16,
   "metadata": {
    "collapsed": true
   },
   "outputs": [],
   "source": [
    "df= df.apply(replace_outliers)"
   ]
  },
  {
   "cell_type": "markdown",
   "metadata": {},
   "source": [
    "def replace_outliers(s, factor=2.0, replacement=0.0):\n",
    "    \"\"\" convert outliers to zero\n",
    "    Parameters:\n",
    "        s(pd.Series): the input series\n",
    "        factor(float): the factor to multiply the interquartile range\n",
    "    Returns:\n",
    "        replacement(float): the value for which to replace\n",
    "    \"\"\"\n",
    "    s = s.copy()\n",
    "    iqr_ = iqr(s)\n",
    "    outliers = s.between(-factor*iqr_, factor*iqr_)==False\n",
    "    s.loc[outliers] =replacement\n",
    "    return outliers"
   ]
  },
  {
   "cell_type": "code",
   "execution_count": 28,
   "metadata": {
    "collapsed": true
   },
   "outputs": [],
   "source": [
    "%autoreload"
   ]
  },
  {
   "cell_type": "code",
   "execution_count": 18,
   "metadata": {
    "collapsed": false
   },
   "outputs": [],
   "source": [
    "outliers =replace_outliers(s)"
   ]
  },
  {
   "cell_type": "code",
   "execution_count": 19,
   "metadata": {
    "collapsed": false
   },
   "outputs": [],
   "source": [
    "df = load_data(files[0], False)[0]\n",
    "df2= processor.pre_process(df)"
   ]
  },
  {
   "cell_type": "code",
   "execution_count": 20,
   "metadata": {
    "collapsed": false
   },
   "outputs": [
    {
     "name": "stdout",
     "output_type": "stream",
     "text": [
      "10 loops, best of 3: 190 ms per loop\n"
     ]
    }
   ],
   "source": [
    "%timeit processor.pre_process(df)"
   ]
  },
  {
   "cell_type": "code",
   "execution_count": 21,
   "metadata": {
    "collapsed": false
   },
   "outputs": [
    {
     "name": "stdout",
     "output_type": "stream",
     "text": [
      "1 loop, best of 3: 7.13 s per loop\n"
     ]
    }
   ],
   "source": [
    "%timeit processor.process_file(files[0])"
   ]
  },
  {
   "cell_type": "code",
   "execution_count": 23,
   "metadata": {
    "collapsed": false
   },
   "outputs": [
    {
     "data": {
      "text/plain": [
       "(-150, 150)"
      ]
     },
     "execution_count": 23,
     "metadata": {},
     "output_type": "execute_result"
    },
    {
     "data": {
      "image/png": "[encoded data removed]",
      "text/plain": [
       "<matplotlib.figure.Figure at 0x110c1a590>"
      ]
     },
     "metadata": {},
     "output_type": "display_data"
    }
   ],
   "source": [
    "ax = df[1].iloc[:10000].plot( color = 'red')\n",
    "ax.set_ylim(-150,150)"
   ]
  },
  {
   "cell_type": "code",
   "execution_count": 22,
   "metadata": {
    "collapsed": false
   },
   "outputs": [
    {
     "data": {
      "image/png": "[encoded data removed]",
      "text/plain": [
       "<matplotlib.figure.Figure at 0x11200e6d0>"
      ]
     },
     "metadata": {},
     "output_type": "display_data"
    }
   ],
   "source": [
    "ax =df2[1].iloc[:10000].plot()\n"
   ]
  },
  {
   "cell_type": "code",
   "execution_count": 24,
   "metadata": {
    "collapsed": true
   },
   "outputs": [],
   "source": [
    "f =join('/Users/crivera5/Documents/NonIntuitProjects/Kaggle/KaggleEEG/train_1','1_45_1.mat')"
   ]
  },
  {
   "cell_type": "code",
   "execution_count": 31,
   "metadata": {
    "collapsed": false
   },
   "outputs": [],
   "source": [
    "processor = Processor()\n",
    "processor.process_file(f)"
   ]
  },
  {
   "cell_type": "code",
   "execution_count": 33,
   "metadata": {
    "collapsed": true
   },
   "outputs": [],
   "source": [
    "path = '/Users/crivera5/Desktop/test'\n",
    "f = join(path, '1_45_1.mat')\n",
    "processor.process_file(f)"
   ]
  },
  {
   "cell_type": "code",
   "execution_count": 41,
   "metadata": {
    "collapsed": false
   },
   "outputs": [
    {
     "name": "stdout",
     "output_type": "stream",
     "text": [
      "1 loop, best of 3: 32 s per loop\n"
     ]
    }
   ],
   "source": [
    "%timeit processor.process_data([path])"
   ]
  },
  {
   "cell_type": "code",
   "execution_count": 36,
   "metadata": {
    "collapsed": true
   },
   "outputs": [],
   "source": [
    "res= processor.process_data([path])"
   ]
  },
  {
   "cell_type": "code",
   "execution_count": 37,
   "metadata": {
    "collapsed": false
   },
   "outputs": [
    {
     "data": {
      "text/html": [
       "<div>\n",
       "<table border=\"1\" class=\"dataframe\">\n",
       "  <thead>\n",
       "    <tr style=\"text-align: right;\">\n",
       "      <th></th>\n",
       "      <th>Variance 1</th>\n",
       "      <th>Variance 2</th>\n",
       "      <th>Variance 3</th>\n",
       "      <th>Variance 4</th>\n",
       "      <th>Variance 5</th>\n",
       "      <th>Variance 6</th>\n",
       "      <th>Variance 7</th>\n",
       "      <th>Variance 8</th>\n",
       "      <th>Variance 9</th>\n",
       "      <th>Variance 10</th>\n",
       "      <th>...</th>\n",
       "      <th>SpectralEntropy 10</th>\n",
       "      <th>SpectralEntropy 11</th>\n",
       "      <th>SpectralEntropy 12</th>\n",
       "      <th>SpectralEntropy 13</th>\n",
       "      <th>SpectralEntropy 14</th>\n",
       "      <th>SpectralEntropy 15</th>\n",
       "      <th>SpectralEntropy 16</th>\n",
       "      <th>patient</th>\n",
       "      <th>dataset_id</th>\n",
       "      <th>pre_ictal</th>\n",
       "    </tr>\n",
       "  </thead>\n",
       "  <tbody>\n",
       "    <tr>\n",
       "      <th>0</th>\n",
       "      <td>1073.931885</td>\n",
       "      <td>1161.097290</td>\n",
       "      <td>1470.846680</td>\n",
       "      <td>2951.005371</td>\n",
       "      <td>1198.252319</td>\n",
       "      <td>960.193604</td>\n",
       "      <td>2339.797607</td>\n",
       "      <td>963.822815</td>\n",
       "      <td>1267.933838</td>\n",
       "      <td>2953.739990</td>\n",
       "      <td>...</td>\n",
       "      <td>-1.399412</td>\n",
       "      <td>-1.350736</td>\n",
       "      <td>-1.282937</td>\n",
       "      <td>-1.436835</td>\n",
       "      <td>-1.549374</td>\n",
       "      <td>-1.348690</td>\n",
       "      <td>-1.272833</td>\n",
       "      <td>1</td>\n",
       "      <td>1</td>\n",
       "      <td>0</td>\n",
       "    </tr>\n",
       "    <tr>\n",
       "      <th>0</th>\n",
       "      <td>1481.801514</td>\n",
       "      <td>1013.530823</td>\n",
       "      <td>1022.900879</td>\n",
       "      <td>1863.541504</td>\n",
       "      <td>1018.228577</td>\n",
       "      <td>727.197632</td>\n",
       "      <td>1694.157837</td>\n",
       "      <td>814.355286</td>\n",
       "      <td>1420.159180</td>\n",
       "      <td>1783.165527</td>\n",
       "      <td>...</td>\n",
       "      <td>-1.327658</td>\n",
       "      <td>-1.257569</td>\n",
       "      <td>-1.129733</td>\n",
       "      <td>-1.265166</td>\n",
       "      <td>-1.354834</td>\n",
       "      <td>-1.274629</td>\n",
       "      <td>-1.185108</td>\n",
       "      <td>1</td>\n",
       "      <td>1</td>\n",
       "      <td>1</td>\n",
       "    </tr>\n",
       "    <tr>\n",
       "      <th>0</th>\n",
       "      <td>1068.162354</td>\n",
       "      <td>1182.911377</td>\n",
       "      <td>1284.068970</td>\n",
       "      <td>2728.372314</td>\n",
       "      <td>1170.491699</td>\n",
       "      <td>912.205078</td>\n",
       "      <td>1822.436157</td>\n",
       "      <td>905.655396</td>\n",
       "      <td>1176.623291</td>\n",
       "      <td>2790.583984</td>\n",
       "      <td>...</td>\n",
       "      <td>-1.406088</td>\n",
       "      <td>-1.366321</td>\n",
       "      <td>-1.261190</td>\n",
       "      <td>-1.431227</td>\n",
       "      <td>-1.555662</td>\n",
       "      <td>-1.319113</td>\n",
       "      <td>-1.268535</td>\n",
       "      <td>1</td>\n",
       "      <td>3</td>\n",
       "      <td>0</td>\n",
       "    </tr>\n",
       "  </tbody>\n",
       "</table>\n",
       "<p>3 rows × 563 columns</p>\n",
       "</div>"
      ],
      "text/plain": [
       "    Variance 1   Variance 2   Variance 3   Variance 4   Variance 5  \\\n",
       "0  1073.931885  1161.097290  1470.846680  2951.005371  1198.252319   \n",
       "0  1481.801514  1013.530823  1022.900879  1863.541504  1018.228577   \n",
       "0  1068.162354  1182.911377  1284.068970  2728.372314  1170.491699   \n",
       "\n",
       "   Variance 6   Variance 7  Variance 8   Variance 9  Variance 10    ...      \\\n",
       "0  960.193604  2339.797607  963.822815  1267.933838  2953.739990    ...       \n",
       "0  727.197632  1694.157837  814.355286  1420.159180  1783.165527    ...       \n",
       "0  912.205078  1822.436157  905.655396  1176.623291  2790.583984    ...       \n",
       "\n",
       "   SpectralEntropy 10  SpectralEntropy 11  SpectralEntropy 12  \\\n",
       "0           -1.399412           -1.350736           -1.282937   \n",
       "0           -1.327658           -1.257569           -1.129733   \n",
       "0           -1.406088           -1.366321           -1.261190   \n",
       "\n",
       "   SpectralEntropy 13  SpectralEntropy 14  SpectralEntropy 15  \\\n",
       "0           -1.436835           -1.549374           -1.348690   \n",
       "0           -1.265166           -1.354834           -1.274629   \n",
       "0           -1.431227           -1.555662           -1.319113   \n",
       "\n",
       "   SpectralEntropy 16  patient  dataset_id  pre_ictal  \n",
       "0           -1.272833        1           1          0  \n",
       "0           -1.185108        1           1          1  \n",
       "0           -1.268535        1           3          0  \n",
       "\n",
       "[3 rows x 563 columns]"
      ]
     },
     "execution_count": 37,
     "metadata": {},
     "output_type": "execute_result"
    }
   ],
   "source": [
    "res"
   ]
  },
  {
   "cell_type": "code",
   "execution_count": 40,
   "metadata": {
    "collapsed": false
   },
   "outputs": [
    {
     "data": {
      "text/plain": [
       "12"
      ]
     },
     "execution_count": 40,
     "metadata": {},
     "output_type": "execute_result"
    }
   ],
   "source": [
    "len(listdir(path))-1"
   ]
  },
  {
   "cell_type": "code",
   "execution_count": null,
   "metadata": {
    "collapsed": true
   },
   "outputs": [],
   "source": []
  }
 ],
 "metadata": {
  "kernelspec": {
   "display_name": "Python 2",
   "language": "python",
   "name": "python2"
  },
  "language_info": {
   "codemirror_mode": {
    "name": "ipython",
    "version": 2
   },
   "file_extension": ".py",
   "mimetype": "text/x-python",
   "name": "python",
   "nbconvert_exporter": "python",
   "pygments_lexer": "ipython2",
   "version": "2.7.11"
  }
 },
 "nbformat": 4,
 "nbformat_minor": 1
}
