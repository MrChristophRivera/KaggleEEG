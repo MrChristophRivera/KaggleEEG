{
 "cells": [
  {
   "cell_type": "markdown",
   "metadata": {},
   "source": [
    "### In this notebook I use dask\n",
    "\n",
    "This is demonstrating how to use dask for our data processing. "
   ]
  },
  {
   "cell_type": "markdown",
   "metadata": {
    "collapsed": true
   },
   "source": [
    "### Load the data"
   ]
  },
  {
   "cell_type": "code",
   "execution_count": 1,
   "metadata": {
    "collapsed": true
   },
   "outputs": [],
   "source": [
    "from data_processing import load_data, get_files, parse_filename, drop_nd_rows\n",
    "from feature_extraction import extract_fft_features, extract_time_domain_features\n",
    "from transformations import interpolate_zeros, replace_outliers_with_zeros\n",
    "import pandas as pd\n",
    "import dask\n",
    "from dask import do\n",
    "from os.path import split\n",
    "from dask import delayed, compute\n",
    "import numpy as np"
   ]
  },
  {
   "cell_type": "code",
   "execution_count": 2,
   "metadata": {
    "collapsed": false
   },
   "outputs": [],
   "source": [
    "files =get_files()[:2]"
   ]
  },
  {
   "cell_type": "markdown",
   "metadata": {
    "collapsed": false
   },
   "source": [
    "```python\n",
    "\n",
    "def parse_filename(filename, split_file=False):\n",
    "    \"\"\"Parses m filename to get the pertinent information\"\"\"\n",
    "    if split_file:\n",
    "        filename = split(filename)[1]\n",
    "\n",
    "    # strip out the .mat\n",
    "    filename = filename.replace('.mat', '')\n",
    "\n",
    "    # parse the remaing part\n",
    "    return [int(part) for part in filename.split('_')]\n",
    "\n",
    "def map_functions(data, functions):\n",
    "    \"\"\"maps a list of functions to data and returns as a list of results\n",
    "    Parameters: \n",
    "        data: data to be computed on\n",
    "        functions(list): a list of functions\n",
    "    Returns: \n",
    "        results(list): a list of the results\n",
    "    \"\"\"\n",
    "    return [fun(data) for fun in functions]\n",
    "\n",
    "\n",
    "def process_data(file_name, functions=None):\n",
    "    \"\"\"Processes one file at a time for extracting features\n",
    "    Parameters: \n",
    "        file_name(str): the file name\n",
    "        functions(list): a list of functions for extracting features\n",
    "    Returns: \n",
    "        res(pd.DataFrame): a one row data frame with the features in the columns    \n",
    "    \"\"\"\n",
    "    \n",
    "    if functions is None: \n",
    "        functions = [extract_time_domain_features,extract_fft_features]\n",
    "    \n",
    "    # get the time series and parse the filename for the info\n",
    "    time_series = load_data(file_name,True)[0]\n",
    "    patient,number,condition = parse_filename(file_name, True)\n",
    "    \n",
    "    # create an index and prefix df\n",
    "    index = pd.MultiIndex.from_tuples([(patient, number, condition)], \n",
    "                                      names=['Patient', 'TraceNumber', 'Condition'])\n",
    "\n",
    "    prefix_df = pd.DataFrame({'Patient':patient,\n",
    "                              'TraceNumber':number,\n",
    "                              'Condition':condition},\n",
    "                             index = [0]\n",
    "                              )\n",
    "    \n",
    "    # create a list two hold the data frames, call the functions and then concatenate the resulting dataframes\n",
    "    res = [prefix_df]\n",
    "    res.extend(map_functions(time_series,functions))\n",
    "    res = pd.concat(res, axis =1)\n",
    "    res.index = index\n",
    "    return res\n",
    "    \n",
    "def process_multiple_data(files):\n",
    "    \"\"\"uses dask to process many files in parallel\"\"\"\n",
    "    # set up the compute graph\n",
    "    graph = delayed([delayed(process_data)(file_) for file_ in files])\n",
    "    # compute the graph\n",
    "    results = compute(graph)\n",
    "    \n",
    "    return pd.concat([results[0][i] for i in range(len(files))]) ```"
   ]
  },
  {
   "cell_type": "markdown",
   "metadata": {
    "collapsed": false
   },
   "source": [
    "features = process_multiple_data(files)"
   ]
  },
  {
   "cell_type": "code",
   "execution_count": 3,
   "metadata": {
    "collapsed": true
   },
   "outputs": [],
   "source": [
    "def map_functions(data, functions):\n",
    "    \"\"\"maps a list of functions to data (slowly)\"\"\"\n",
    "    return [fun(data) for fun in functions]"
   ]
  },
  {
   "cell_type": "markdown",
   "metadata": {
    "collapsed": false
   },
   "source": [
    "import numpy as np\n",
    "functions = [np.sin, np.cos]\n",
    "map_functions(1,functions)"
   ]
  },
  {
   "cell_type": "markdown",
   "metadata": {
    "collapsed": true
   },
   "source": [
    "### Try the new code\n"
   ]
  },
  {
   "cell_type": "code",
   "execution_count": 4,
   "metadata": {
    "collapsed": true
   },
   "outputs": [],
   "source": [
    "from os import listdir\n",
    "import pandas as pd\n",
    "from os.path import join, split\n",
    "from data_processing import Processor,get_data_files,load_data,interpolate_zeros,replace_outliers_with_zeros"
   ]
  },
  {
   "cell_type": "code",
   "execution_count": 5,
   "metadata": {
    "collapsed": false
   },
   "outputs": [],
   "source": [
    "processor = Processor()"
   ]
  },
  {
   "cell_type": "code",
   "execution_count": 6,
   "metadata": {
    "collapsed": false
   },
   "outputs": [],
   "source": [
    "test_path = ['/Users/crivera5/Desktop/test']\n",
    "processor = Processor()\n",
    "res= processor.process_data(test_path)"
   ]
  },
  {
   "cell_type": "code",
   "execution_count": 8,
   "metadata": {
    "collapsed": false
   },
   "outputs": [
    {
     "data": {
      "text/html": [
       "<div>\n",
       "<table border=\"1\" class=\"dataframe\">\n",
       "  <thead>\n",
       "    <tr style=\"text-align: right;\">\n",
       "      <th></th>\n",
       "      <th>Variance 1</th>\n",
       "      <th>Variance 2</th>\n",
       "      <th>Variance 3</th>\n",
       "      <th>Variance 4</th>\n",
       "      <th>Variance 5</th>\n",
       "      <th>Variance 6</th>\n",
       "      <th>Variance 7</th>\n",
       "      <th>Variance 8</th>\n",
       "      <th>Variance 9</th>\n",
       "      <th>Variance 10</th>\n",
       "      <th>...</th>\n",
       "      <th>SpectralEntropy 10</th>\n",
       "      <th>SpectralEntropy 11</th>\n",
       "      <th>SpectralEntropy 12</th>\n",
       "      <th>SpectralEntropy 13</th>\n",
       "      <th>SpectralEntropy 14</th>\n",
       "      <th>SpectralEntropy 15</th>\n",
       "      <th>SpectralEntropy 16</th>\n",
       "      <th>patient</th>\n",
       "      <th>dataset_id</th>\n",
       "      <th>pre_ictal</th>\n",
       "    </tr>\n",
       "  </thead>\n",
       "  <tbody>\n",
       "    <tr>\n",
       "      <th>0</th>\n",
       "      <td>1108.285587</td>\n",
       "      <td>1173.037383</td>\n",
       "      <td>1490.013692</td>\n",
       "      <td>3146.195714</td>\n",
       "      <td>1246.922731</td>\n",
       "      <td>994.800913</td>\n",
       "      <td>2778.216010</td>\n",
       "      <td>1043.109055</td>\n",
       "      <td>1330.460439</td>\n",
       "      <td>3066.468131</td>\n",
       "      <td>...</td>\n",
       "      <td>-1.404093</td>\n",
       "      <td>-1.387194</td>\n",
       "      <td>-1.287744</td>\n",
       "      <td>-1.486006</td>\n",
       "      <td>-1.627189</td>\n",
       "      <td>-1.366420</td>\n",
       "      <td>-1.257787</td>\n",
       "      <td>1</td>\n",
       "      <td>1</td>\n",
       "      <td>0</td>\n",
       "    </tr>\n",
       "    <tr>\n",
       "      <th>0</th>\n",
       "      <td>1502.649850</td>\n",
       "      <td>1015.394525</td>\n",
       "      <td>1035.904556</td>\n",
       "      <td>1941.468010</td>\n",
       "      <td>1094.096028</td>\n",
       "      <td>757.061125</td>\n",
       "      <td>1791.417659</td>\n",
       "      <td>827.707828</td>\n",
       "      <td>1454.496138</td>\n",
       "      <td>1818.893563</td>\n",
       "      <td>...</td>\n",
       "      <td>-1.329490</td>\n",
       "      <td>-1.266501</td>\n",
       "      <td>-1.142942</td>\n",
       "      <td>-1.280479</td>\n",
       "      <td>-1.337185</td>\n",
       "      <td>-1.291618</td>\n",
       "      <td>-1.178036</td>\n",
       "      <td>1</td>\n",
       "      <td>1</td>\n",
       "      <td>1</td>\n",
       "    </tr>\n",
       "    <tr>\n",
       "      <th>0</th>\n",
       "      <td>1100.407127</td>\n",
       "      <td>1197.082783</td>\n",
       "      <td>1301.726251</td>\n",
       "      <td>2936.770909</td>\n",
       "      <td>1227.301639</td>\n",
       "      <td>936.902192</td>\n",
       "      <td>2169.082417</td>\n",
       "      <td>979.326638</td>\n",
       "      <td>1250.133006</td>\n",
       "      <td>2948.319671</td>\n",
       "      <td>...</td>\n",
       "      <td>-1.412023</td>\n",
       "      <td>-1.401959</td>\n",
       "      <td>-1.268677</td>\n",
       "      <td>-1.475184</td>\n",
       "      <td>-1.611913</td>\n",
       "      <td>-1.348532</td>\n",
       "      <td>-1.282049</td>\n",
       "      <td>1</td>\n",
       "      <td>3</td>\n",
       "      <td>0</td>\n",
       "    </tr>\n",
       "  </tbody>\n",
       "</table>\n",
       "<p>3 rows × 563 columns</p>\n",
       "</div>"
      ],
      "text/plain": [
       "    Variance 1   Variance 2   Variance 3   Variance 4   Variance 5  \\\n",
       "0  1108.285587  1173.037383  1490.013692  3146.195714  1246.922731   \n",
       "0  1502.649850  1015.394525  1035.904556  1941.468010  1094.096028   \n",
       "0  1100.407127  1197.082783  1301.726251  2936.770909  1227.301639   \n",
       "\n",
       "   Variance 6   Variance 7   Variance 8   Variance 9  Variance 10    ...      \\\n",
       "0  994.800913  2778.216010  1043.109055  1330.460439  3066.468131    ...       \n",
       "0  757.061125  1791.417659   827.707828  1454.496138  1818.893563    ...       \n",
       "0  936.902192  2169.082417   979.326638  1250.133006  2948.319671    ...       \n",
       "\n",
       "   SpectralEntropy 10  SpectralEntropy 11  SpectralEntropy 12  \\\n",
       "0           -1.404093           -1.387194           -1.287744   \n",
       "0           -1.329490           -1.266501           -1.142942   \n",
       "0           -1.412023           -1.401959           -1.268677   \n",
       "\n",
       "   SpectralEntropy 13  SpectralEntropy 14  SpectralEntropy 15  \\\n",
       "0           -1.486006           -1.627189           -1.366420   \n",
       "0           -1.280479           -1.337185           -1.291618   \n",
       "0           -1.475184           -1.611913           -1.348532   \n",
       "\n",
       "   SpectralEntropy 16  patient  dataset_id  pre_ictal  \n",
       "0           -1.257787        1           1          0  \n",
       "0           -1.178036        1           1          1  \n",
       "0           -1.282049        1           3          0  \n",
       "\n",
       "[3 rows x 563 columns]"
      ]
     },
     "execution_count": 8,
     "metadata": {},
     "output_type": "execute_result"
    }
   ],
   "source": [
    "res"
   ]
  },
  {
   "cell_type": "code",
   "execution_count": null,
   "metadata": {
    "collapsed": true
   },
   "outputs": [],
   "source": [
    "### c"
   ]
  },
  {
   "cell_type": "code",
   "execution_count": null,
   "metadata": {
    "collapsed": false
   },
   "outputs": [],
   "source": [
    "paths =['/Users/crivera5/Documents/NonIntuitProjects/Kaggle/KaggleEEG/train_1',\n",
    "       '/Users/crivera5/Documents/NonIntuitProjects/Kaggle/KaggleEEG/train_2',\n",
    "       '/Users/crivera5/Documents/NonIntuitProjects/Kaggle/KaggleEEG/train_3']"
   ]
  },
  {
   "cell_type": "code",
   "execution_count": null,
   "metadata": {
    "collapsed": false
   },
   "outputs": [],
   "source": [
    "res = processor.process_data(paths)"
   ]
  }
 ],
 "metadata": {
  "kernelspec": {
   "display_name": "Python 2",
   "language": "python",
   "name": "python2"
  },
  "language_info": {
   "codemirror_mode": {
    "name": "ipython",
    "version": 2
   },
   "file_extension": ".py",
   "mimetype": "text/x-python",
   "name": "python",
   "nbconvert_exporter": "python",
   "pygments_lexer": "ipython2",
   "version": "2.7.11"
  }
 },
 "nbformat": 4,
 "nbformat_minor": 1
}
