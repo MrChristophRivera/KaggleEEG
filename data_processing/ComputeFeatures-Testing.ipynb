{
 "cells": [
  {
   "cell_type": "markdown",
   "metadata": {},
   "source": [
    "## objective: To compute features for testing"
   ]
  },
  {
   "cell_type": "code",
   "execution_count": 1,
   "metadata": {
    "collapsed": false
   },
   "outputs": [],
   "source": [
    "from data_processing import load_data, get_files, parse_filename, drop_nd_rows\n",
    "from feature_extraction import extract_fft_features, extract_time_domain_features\n",
    "from transformations import interpolate_zeros, replace_outliers_with_zeros, replace_outliers\n",
    "import pandas as pd\n",
    "import dask\n",
    "from dask import do\n",
    "from os.path import split\n",
    "from dask import delayed, compute\n",
    "import numpy as np\n",
    "\n",
    "from os import listdir\n",
    "import pandas as pd\n",
    "from os.path import join, split\n",
    "from data_processing import *\n",
    "%matplotlib inline\n",
    "\n",
    "from scipy.stats import shapiro\n",
    "from scipy.stats.mstats import normaltest\n",
    "from scipy.stats import iqr\n",
    "%load_ext autoreload\n",
    "\n",
    "pd.set_option('display.max_columns',999)\n",
    "pd.set_option('display.max_rows',999)\n",
    "\n",
    "from dask.diagnostics import ProgressBar"
   ]
  },
  {
   "cell_type": "code",
   "execution_count": 2,
   "metadata": {
    "collapsed": true
   },
   "outputs": [],
   "source": [
    "paths =['/Users/crivera5/Documents/NonIntuitProjects/Kaggle/KaggleEEG/test_1_new/',\n",
    "       '/Users/crivera5/Documents/NonIntuitProjects/Kaggle/KaggleEEG/test_2_new/',\n",
    "       '/Users/crivera5/Documents/NonIntuitProjects/Kaggle/KaggleEEG/test_3_new/']\n"
   ]
  },
  {
   "cell_type": "code",
   "execution_count": 3,
   "metadata": {
    "collapsed": false
   },
   "outputs": [],
   "source": [
    "processor =Processor(training=False)\n"
   ]
  },
  {
   "cell_type": "code",
   "execution_count": 4,
   "metadata": {
    "collapsed": false
   },
   "outputs": [
    {
     "name": "stderr",
     "output_type": "stream",
     "text": [
      "feature_extraction.py:157: RuntimeWarning: divide by zero encountered in log\n",
      "  return np.sum(rir.apply(lambda x: x * np.log(x)))\n",
      "feature_extraction.py:157: RuntimeWarning: divide by zero encountered in log\n",
      "  return np.sum(rir.apply(lambda x: x * np.log(x)))\n",
      "feature_extraction.py:157: RuntimeWarning: divide by zero encountered in log\n",
      "  return np.sum(rir.apply(lambda x: x * np.log(x)))\n",
      "feature_extraction.py:157: RuntimeWarning: divide by zero encountered in log\n",
      "  return np.sum(rir.apply(lambda x: x * np.log(x)))\n",
      "feature_extraction.py:157: RuntimeWarning: divide by zero encountered in log\n",
      "  return np.sum(rir.apply(lambda x: x * np.log(x)))\n",
      "feature_extraction.py:157: RuntimeWarning: divide by zero encountered in log\n",
      "  return np.sum(rir.apply(lambda x: x * np.log(x)))\n",
      "feature_extraction.py:157: RuntimeWarning: divide by zero encountered in log\n",
      "  return np.sum(rir.apply(lambda x: x * np.log(x)))\n",
      "feature_extraction.py:157: RuntimeWarning: divide by zero encountered in log\n",
      "  return np.sum(rir.apply(lambda x: x * np.log(x)))\n"
     ]
    }
   ],
   "source": [
    "res = processor.process_data(paths)"
   ]
  },
  {
   "cell_type": "code",
   "execution_count": 5,
   "metadata": {
    "collapsed": true
   },
   "outputs": [],
   "source": [
    "base = '/Users/crivera5/Documents/NonIntuitProjects/Kaggle/KaggleEEG/data_local/'\n",
    "fname = join(base,'testing.csv')\n",
    "res.to_csv(fname, index = False)"
   ]
  },
  {
   "cell_type": "code",
   "execution_count": null,
   "metadata": {
    "collapsed": true
   },
   "outputs": [],
   "source": []
  }
 ],
 "metadata": {
  "kernelspec": {
   "display_name": "Python 2",
   "language": "python",
   "name": "python2"
  },
  "language_info": {
   "codemirror_mode": {
    "name": "ipython",
    "version": 2
   },
   "file_extension": ".py",
   "mimetype": "text/x-python",
   "name": "python",
   "nbconvert_exporter": "python",
   "pygments_lexer": "ipython2",
   "version": "2.7.11"
  }
 },
 "nbformat": 4,
 "nbformat_minor": 1
}
