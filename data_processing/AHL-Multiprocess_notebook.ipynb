{
 "cells": [
  {
   "cell_type": "code",
   "execution_count": 1,
   "metadata": {
    "collapsed": false
   },
   "outputs": [],
   "source": [
    "from data_processing import *\n",
    "from feature_extraction import *\n",
    "from transformations import *"
   ]
  },
  {
   "cell_type": "code",
   "execution_count": 2,
   "metadata": {
    "collapsed": false
   },
   "outputs": [],
   "source": [
    "base = \"D:/Users/Anthony/Documents/Kaggle-Competitions/KaggleEEG/data_processing/\"\n",
    "train1_path = join(base, 'test')"
   ]
  },
  {
   "cell_type": "code",
   "execution_count": 13,
   "metadata": {
    "collapsed": false
   },
   "outputs": [],
   "source": [
    "class Processor(object):\n",
    "\n",
    "    def __init__(self, list_of_functions, dtrend=None):\n",
    "        self.list_of_functions = list_of_functions\n",
    "        self.dtrend = dtrend\n",
    "\n",
    "    def process_folder(self, train_path):\n",
    "        \"\"\" Apply function to all files in\n",
    "        \"\"\"\n",
    "        seizure_df = pd.DataFrame()\n",
    "        failures = []\n",
    "        results = []\n",
    "        print(train_path)\n",
    "        for patient_path in train_path:\n",
    "            # This is how I speed up processing 4x by making full use of all cores in the CPUs.\n",
    "            values = [delayed(self.process_file)('\\\\'.join([patient_path, f])) for f in listdir(patient_path) if isfile('/'.join([patient_path, f]))]\n",
    "            result = compute(*values, get=dask.multiprocessing.get)\n",
    "            results.append(result)\n",
    "        return results\n",
    "\n",
    "    def process_file(self, fname):\n",
    "        \"\"\" Apply list of functions to file.\n",
    "\n",
    "        Each function should return a dataframe with x columns and 1 row. The number of columns is equal to features\n",
    "        extracted.\n",
    "\n",
    "        :param fname:\n",
    "        :param list_of_functions:\n",
    "        :param dtrend (string):  Must be  'None', 'mean', 'median'\n",
    "        :return:\n",
    "        \"\"\"\n",
    "        df, sampling_rate, sequence = load_data(join(fname))\n",
    "        df = self.normalize(df)\n",
    "        # Determine if this is an inter or preictal dataset and put in corresponding bucket.\n",
    "        split_string = fname.split('/').pop().replace('.', '_').split('_')\n",
    "        feature_df_list = []\n",
    "        for func in self.list_of_functions:\n",
    "            # Process function and append index columns\n",
    "            func_result_df = func(df)\n",
    "            feature_df_list.append(func_result_df)\n",
    "        feature_df = pd.concat(feature_df_list, 1)\n",
    "        feature_df = self.append_index(feature_df, split_string)\n",
    "        return feature_df\n",
    "\n",
    "    def append_index(self, df, split_string):\n",
    "        \"\"\" Append data set identifier and set index to identifier\"\"\"\n",
    "        path, patient_id = split_string[0].split('\\\\')\n",
    "        df['patient'] = patient_id\n",
    "        df['dataset_id'] = split_string[1]\n",
    "        df['pre_ictal'] = split_string[2]\n",
    "        \n",
    "        return df\n",
    "\n",
    "    def normalize(self, df):\n",
    "        \"\"\" Normalize data frame.\n",
    "        \"\"\"\n",
    "        return df"
   ]
  },
  {
   "cell_type": "code",
   "execution_count": 14,
   "metadata": {
    "collapsed": false
   },
   "outputs": [],
   "source": [
    "test = Processor([detect_dropout])"
   ]
  },
  {
   "cell_type": "code",
   "execution_count": 15,
   "metadata": {
    "collapsed": false
   },
   "outputs": [
    {
     "name": "stdout",
     "output_type": "stream",
     "text": [
      "['D:/Users/Anthony/Documents/Kaggle-Competitions/KaggleEEG/data_processing/test']\n"
     ]
    }
   ],
   "source": [
    "res = test.process_folder([train1_path])"
   ]
  },
  {
   "cell_type": "code",
   "execution_count": 16,
   "metadata": {
    "collapsed": false
   },
   "outputs": [
    {
     "data": {
      "text/plain": [
       "(         df_sum patient dataset_id pre_ictal\n",
       " 0  84182.429688       1          1         0,\n",
       "      df_sum patient dataset_id pre_ictal\n",
       " 0  107245.0       1          1         1,\n",
       "          df_sum patient dataset_id pre_ictal\n",
       " 0  54031.632812       1          2         0,\n",
       "           df_sum patient dataset_id pre_ictal\n",
       " 0  100579.195312       1          2         1,\n",
       "          df_sum patient dataset_id pre_ictal\n",
       " 0  86772.695312       1          3         0)"
      ]
     },
     "execution_count": 16,
     "metadata": {},
     "output_type": "execute_result"
    }
   ],
   "source": [
    "res[0]"
   ]
  },
  {
   "cell_type": "code",
   "execution_count": 17,
   "metadata": {
    "collapsed": false
   },
   "outputs": [
    {
     "data": {
      "text/html": [
       "<div>\n",
       "<table border=\"1\" class=\"dataframe\">\n",
       "  <thead>\n",
       "    <tr style=\"text-align: right;\">\n",
       "      <th></th>\n",
       "      <th>df_sum</th>\n",
       "      <th>patient</th>\n",
       "      <th>dataset_id</th>\n",
       "      <th>pre_ictal</th>\n",
       "    </tr>\n",
       "  </thead>\n",
       "  <tbody>\n",
       "    <tr>\n",
       "      <th>0</th>\n",
       "      <td>84182.429688</td>\n",
       "      <td>1</td>\n",
       "      <td>1</td>\n",
       "      <td>0</td>\n",
       "    </tr>\n",
       "    <tr>\n",
       "      <th>0</th>\n",
       "      <td>107245.000000</td>\n",
       "      <td>1</td>\n",
       "      <td>1</td>\n",
       "      <td>1</td>\n",
       "    </tr>\n",
       "    <tr>\n",
       "      <th>0</th>\n",
       "      <td>54031.632812</td>\n",
       "      <td>1</td>\n",
       "      <td>2</td>\n",
       "      <td>0</td>\n",
       "    </tr>\n",
       "    <tr>\n",
       "      <th>0</th>\n",
       "      <td>100579.195312</td>\n",
       "      <td>1</td>\n",
       "      <td>2</td>\n",
       "      <td>1</td>\n",
       "    </tr>\n",
       "    <tr>\n",
       "      <th>0</th>\n",
       "      <td>86772.695312</td>\n",
       "      <td>1</td>\n",
       "      <td>3</td>\n",
       "      <td>0</td>\n",
       "    </tr>\n",
       "  </tbody>\n",
       "</table>\n",
       "</div>"
      ],
      "text/plain": [
       "          df_sum patient dataset_id pre_ictal\n",
       "0   84182.429688       1          1         0\n",
       "0  107245.000000       1          1         1\n",
       "0   54031.632812       1          2         0\n",
       "0  100579.195312       1          2         1\n",
       "0   86772.695312       1          3         0"
      ]
     },
     "execution_count": 17,
     "metadata": {},
     "output_type": "execute_result"
    }
   ],
   "source": [
    "pd.concat(res[0])"
   ]
  },
  {
   "cell_type": "code",
   "execution_count": null,
   "metadata": {
    "collapsed": true
   },
   "outputs": [],
   "source": []
  }
 ],
 "metadata": {
  "anaconda-cloud": {},
  "kernelspec": {
   "display_name": "Python [conda root]",
   "language": "python",
   "name": "conda-root-py"
  },
  "language_info": {
   "codemirror_mode": {
    "name": "ipython",
    "version": 3
   },
   "file_extension": ".py",
   "mimetype": "text/x-python",
   "name": "python",
   "nbconvert_exporter": "python",
   "pygments_lexer": "ipython3",
   "version": "3.5.2"
  }
 },
 "nbformat": 4,
 "nbformat_minor": 1
}
